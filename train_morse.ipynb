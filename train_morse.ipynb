{
  "nbformat": 4,
  "nbformat_minor": 0,
  "metadata": {
    "colab": {
      "name": "train_morse.ipynb",
      "provenance": [],
      "collapsed_sections": [],
      "toc_visible": true,
      "include_colab_link": true
    },
    "kernelspec": {
      "name": "python3",
      "display_name": "Python 3"
    },
    "language_info": {
      "name": "python"
    }
  },
  "cells": [
    {
      "cell_type": "markdown",
      "metadata": {
        "id": "view-in-github",
        "colab_type": "text"
      },
      "source": [
        "<a href=\"https://colab.research.google.com/github/MarcAssmann/morse_training/blob/main/train_morse.ipynb\" target=\"_parent\"><img src=\"https://colab.research.google.com/assets/colab-badge.svg\" alt=\"Open In Colab\"/></a>"
      ]
    },
    {
      "cell_type": "markdown",
      "metadata": {
        "id": "svDq-PxbJFzA"
      },
      "source": [
        "**Tensorflow Model to train Morse discriminator** \n",
        "22/05/20\n",
        "\n"
      ]
    },
    {
      "cell_type": "code",
      "metadata": {
        "id": "RPJGsVUEHVYU",
        "colab": {
          "base_uri": "https://localhost:8080/"
        },
        "outputId": "31e6daa2-bc3c-45bd-f842-70fedc8a9994"
      },
      "source": [
        "!git clone https://github.com/MarcAssmann/morse_training.git"
      ],
      "execution_count": null,
      "outputs": [
        {
          "output_type": "stream",
          "text": [
            "Cloning into 'morse_training_data'...\n",
            "remote: Enumerating objects: 6, done.\u001b[K\n",
            "remote: Counting objects: 100% (6/6), done.\u001b[K\n",
            "remote: Compressing objects: 100% (4/4), done.\u001b[K\n",
            "remote: Total 6 (delta 0), reused 0 (delta 0), pack-reused 0\u001b[K\n",
            "Unpacking objects: 100% (6/6), done.\n"
          ],
          "name": "stdout"
        }
      ]
    },
    {
      "cell_type": "code",
      "metadata": {
        "id": "1uJUUxsKJwMJ"
      },
      "source": [
        "import os\n",
        "import pandas as pd\n",
        "import tensorflow as tf\n",
        "import numpy as np"
      ],
      "execution_count": 37,
      "outputs": []
    },
    {
      "cell_type": "markdown",
      "metadata": {
        "id": "y_cTm939JpCm"
      },
      "source": [
        "(1) Process Data from Morse Generator"
      ]
    },
    {
      "cell_type": "code",
      "metadata": {
        "colab": {
          "base_uri": "https://localhost:8080/",
          "height": 407
        },
        "id": "jBmAcQjGN2p2",
        "outputId": "84cc2eea-872a-42be-cba2-c6056a495dff"
      },
      "source": [
        "file = 'morse_training_data/platformio-device-monitor-210516-161118-cleaned.log'\n",
        "pd.read_csv(file)"
      ],
      "execution_count": 62,
      "outputs": [
        {
          "output_type": "execute_result",
          "data": {
            "text/html": [
              "<div>\n",
              "<style scoped>\n",
              "    .dataframe tbody tr th:only-of-type {\n",
              "        vertical-align: middle;\n",
              "    }\n",
              "\n",
              "    .dataframe tbody tr th {\n",
              "        vertical-align: top;\n",
              "    }\n",
              "\n",
              "    .dataframe thead th {\n",
              "        text-align: right;\n",
              "    }\n",
              "</style>\n",
              "<table border=\"1\" class=\"dataframe\">\n",
              "  <thead>\n",
              "    <tr style=\"text-align: right;\">\n",
              "      <th></th>\n",
              "      <th>R</th>\n",
              "      <th>G</th>\n",
              "      <th>B</th>\n",
              "      <th>Character</th>\n",
              "    </tr>\n",
              "  </thead>\n",
              "  <tbody>\n",
              "    <tr>\n",
              "      <th>0</th>\n",
              "      <td>0</td>\n",
              "      <td>0</td>\n",
              "      <td>0</td>\n",
              "      <td></td>\n",
              "    </tr>\n",
              "    <tr>\n",
              "      <th>1</th>\n",
              "      <td>39</td>\n",
              "      <td>38</td>\n",
              "      <td>30</td>\n",
              "      <td></td>\n",
              "    </tr>\n",
              "    <tr>\n",
              "      <th>2</th>\n",
              "      <td>39</td>\n",
              "      <td>38</td>\n",
              "      <td>30</td>\n",
              "      <td></td>\n",
              "    </tr>\n",
              "    <tr>\n",
              "      <th>3</th>\n",
              "      <td>39</td>\n",
              "      <td>38</td>\n",
              "      <td>30</td>\n",
              "      <td></td>\n",
              "    </tr>\n",
              "    <tr>\n",
              "      <th>4</th>\n",
              "      <td>39</td>\n",
              "      <td>38</td>\n",
              "      <td>30</td>\n",
              "      <td></td>\n",
              "    </tr>\n",
              "    <tr>\n",
              "      <th>...</th>\n",
              "      <td>...</td>\n",
              "      <td>...</td>\n",
              "      <td>...</td>\n",
              "      <td>...</td>\n",
              "    </tr>\n",
              "    <tr>\n",
              "      <th>79797</th>\n",
              "      <td>143</td>\n",
              "      <td>148</td>\n",
              "      <td>163</td>\n",
              "      <td>N</td>\n",
              "    </tr>\n",
              "    <tr>\n",
              "      <th>79798</th>\n",
              "      <td>143</td>\n",
              "      <td>130</td>\n",
              "      <td>102</td>\n",
              "      <td>N</td>\n",
              "    </tr>\n",
              "    <tr>\n",
              "      <th>79799</th>\n",
              "      <td>143</td>\n",
              "      <td>129</td>\n",
              "      <td>96</td>\n",
              "      <td>N</td>\n",
              "    </tr>\n",
              "    <tr>\n",
              "      <th>79800</th>\n",
              "      <td>144</td>\n",
              "      <td>149</td>\n",
              "      <td>163</td>\n",
              "      <td>N</td>\n",
              "    </tr>\n",
              "    <tr>\n",
              "      <th>79801</th>\n",
              "      <td>145</td>\n",
              "      <td>149</td>\n",
              "      <td>163</td>\n",
              "      <td>N</td>\n",
              "    </tr>\n",
              "  </tbody>\n",
              "</table>\n",
              "<p>79802 rows × 4 columns</p>\n",
              "</div>"
            ],
            "text/plain": [
              "         R    G    B Character\n",
              "0        0    0    0          \n",
              "1       39   38   30          \n",
              "2       39   38   30          \n",
              "3       39   38   30          \n",
              "4       39   38   30          \n",
              "...    ...  ...  ...       ...\n",
              "79797  143  148  163         N\n",
              "79798  143  130  102         N\n",
              "79799  143  129   96         N\n",
              "79800  144  149  163         N\n",
              "79801  145  149  163         N\n",
              "\n",
              "[79802 rows x 4 columns]"
            ]
          },
          "metadata": {
            "tags": []
          },
          "execution_count": 62
        }
      ]
    },
    {
      "cell_type": "code",
      "metadata": {
        "id": "cSi9uAhbPpx_"
      },
      "source": [
        "data = pd.read_csv(file)\n",
        "X = data[['B']]\n",
        "y = data[['Character']]\n",
        "y = y.replace(' ', '_')"
      ],
      "execution_count": 63,
      "outputs": []
    },
    {
      "cell_type": "code",
      "metadata": {
        "colab": {
          "base_uri": "https://localhost:8080/"
        },
        "id": "BZScNFHaazik",
        "outputId": "da51debb-81ab-44ac-9428-8beb336c9e17"
      },
      "source": [
        "# taken from https://stackoverflow.com/questions/43618245/how-to-one-hot-encode-sentences-at-the-character-level\n",
        "def one_hot(c: str):\n",
        "  idxs = np.fromstring(c, dtype=np.uint8) - ord('A')\n",
        "  one_hot = tf.one_hot(idxs, 31, dtype=tf.uint8)\n",
        "  one_hot = one_hot.numpy().tolist()[0]\n",
        "  return one_hot\n",
        "\n",
        "one_hot_mapping = {}\n",
        "\n",
        "for i in range(ord('A'),ord('_')+1):\n",
        "  c = chr(i)\n",
        "  one_hot_mapping[c] = one_hot(c)\n",
        "\n",
        "y_irgendwas = [ one_hot_mapping[c] for c in y['Character']]\n"
      ],
      "execution_count": 76,
      "outputs": [
        {
          "output_type": "stream",
          "text": [
            "/usr/local/lib/python3.7/dist-packages/ipykernel_launcher.py:3: DeprecationWarning: The binary mode of fromstring is deprecated, as it behaves surprisingly on unicode inputs. Use frombuffer instead\n",
            "  This is separate from the ipykernel package so we can avoid doing imports until\n"
          ],
          "name": "stderr"
        }
      ]
    },
    {
      "cell_type": "code",
      "metadata": {
        "colab": {
          "base_uri": "https://localhost:8080/"
        },
        "id": "ZQGSCQgpQq7S",
        "outputId": "5c5699bf-a311-4eb6-cc4f-1ad34eab2309"
      },
      "source": [
        "X_tensor = tf.convert_to_tensor(X)\n",
        "y_tensor = tf.convert_to_tensor(y_irgendwas)\n",
        "y_tensor"
      ],
      "execution_count": 79,
      "outputs": [
        {
          "output_type": "execute_result",
          "data": {
            "text/plain": [
              "<tf.Tensor: shape=(79802, 31), dtype=int32, numpy=\n",
              "array([[0, 0, 0, ..., 0, 0, 1],\n",
              "       [0, 0, 0, ..., 0, 0, 1],\n",
              "       [0, 0, 0, ..., 0, 0, 1],\n",
              "       ...,\n",
              "       [0, 0, 0, ..., 0, 0, 0],\n",
              "       [0, 0, 0, ..., 0, 0, 0],\n",
              "       [0, 0, 0, ..., 0, 0, 0]], dtype=int32)>"
            ]
          },
          "metadata": {
            "tags": []
          },
          "execution_count": 79
        }
      ]
    },
    {
      "cell_type": "code",
      "metadata": {
        "id": "CWs6x_S2QGH-"
      },
      "source": [
        "length = len(X_tensor)\n",
        "\n",
        "X_train = X_tensor[:int(0.6*length)]\n",
        "X_val = X_tensor[int(0.6*length):int(0.8*length)]\n",
        "X_test = X_tensor[int(0.8*length):]\n",
        "\n",
        "y_train = y_tensor[:int(0.6*length)]\n",
        "y_val = y_tensor[int(0.6*length):int(0.8*length)]\n",
        "y_test = y_tensor[int(0.8*length):]"
      ],
      "execution_count": 35,
      "outputs": []
    },
    {
      "cell_type": "markdown",
      "metadata": {
        "id": "MTYtcLyNWjZP"
      },
      "source": [
        "(2) Create model"
      ]
    },
    {
      "cell_type": "code",
      "metadata": {
        "id": "fZnjM9O6Yfl2"
      },
      "source": [
        "model = keras.Sequential()\n",
        "# Add an Embedding layer expecting input vocab of size 1000, and\n",
        "# output embedding dimension of size 64.\n",
        "# model.add(layers.Embedding(input_dim=1000, output_dim=64))\n",
        "\n",
        "# Add a LSTM layer with 128 internal units.\n",
        "model.add(layers.LSTM(128))\n",
        "\n",
        "# Add a Dense layer with 10 units.\n",
        "model.add(layers.Dense(10))\n",
        "\n",
        "model.summary()"
      ],
      "execution_count": null,
      "outputs": []
    }
  ]
}