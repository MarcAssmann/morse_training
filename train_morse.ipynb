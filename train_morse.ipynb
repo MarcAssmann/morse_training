{
  "nbformat": 4,
  "nbformat_minor": 0,
  "metadata": {
    "colab": {
      "name": "train_morse.ipynb",
      "provenance": [],
      "collapsed_sections": [],
      "toc_visible": true,
      "include_colab_link": true
    },
    "kernelspec": {
      "name": "python3",
      "display_name": "Python 3"
    },
    "language_info": {
      "name": "python"
    }
  },
  "cells": [
    {
      "cell_type": "markdown",
      "metadata": {
        "id": "view-in-github",
        "colab_type": "text"
      },
      "source": [
        "<a href=\"https://colab.research.google.com/github/MarcAssmann/morse_training/blob/main/train_morse.ipynb\" target=\"_parent\"><img src=\"https://colab.research.google.com/assets/colab-badge.svg\" alt=\"Open In Colab\"/></a>"
      ]
    },
    {
      "cell_type": "markdown",
      "metadata": {
        "id": "svDq-PxbJFzA"
      },
      "source": [
        "**Tensorflow Model to train Morse discriminator** \n",
        "22/05/20\n",
        "\n"
      ]
    },
    {
      "cell_type": "code",
      "metadata": {
        "id": "RPJGsVUEHVYU",
        "colab": {
          "base_uri": "https://localhost:8080/"
        },
        "outputId": "7678a5de-393c-40e5-8726-e2f87ee4f856"
      },
      "source": [
        "!git clone https://github.com/MarcAssmann/morse_training.git"
      ],
      "execution_count": 2,
      "outputs": [
        {
          "output_type": "stream",
          "text": [
            "fatal: destination path 'morse_training' already exists and is not an empty directory.\n"
          ],
          "name": "stdout"
        }
      ]
    },
    {
      "cell_type": "code",
      "metadata": {
        "id": "1uJUUxsKJwMJ"
      },
      "source": [
        "import os\n",
        "import pandas as pd\n",
        "import tensorflow as tf\n",
        "import numpy as np\n",
        "import matplotlib.pyplot as plt\n",
        "from keras.models import Sequential\n",
        "from keras.layers import Dense\n",
        "from keras.layers import LSTM"
      ],
      "execution_count": 76,
      "outputs": []
    },
    {
      "cell_type": "markdown",
      "metadata": {
        "id": "y_cTm939JpCm"
      },
      "source": [
        "(1) Process Data from Morse Generator"
      ]
    },
    {
      "cell_type": "code",
      "metadata": {
        "colab": {
          "base_uri": "https://localhost:8080/",
          "height": 407
        },
        "id": "jBmAcQjGN2p2",
        "outputId": "614e2692-c529-4368-b689-bd538f42ac10"
      },
      "source": [
        "file = 'morse_training/platformio-device-monitor-210516-161118-cleaned.log'\n",
        "pd.read_csv(file)"
      ],
      "execution_count": 6,
      "outputs": [
        {
          "output_type": "execute_result",
          "data": {
            "text/html": [
              "<div>\n",
              "<style scoped>\n",
              "    .dataframe tbody tr th:only-of-type {\n",
              "        vertical-align: middle;\n",
              "    }\n",
              "\n",
              "    .dataframe tbody tr th {\n",
              "        vertical-align: top;\n",
              "    }\n",
              "\n",
              "    .dataframe thead th {\n",
              "        text-align: right;\n",
              "    }\n",
              "</style>\n",
              "<table border=\"1\" class=\"dataframe\">\n",
              "  <thead>\n",
              "    <tr style=\"text-align: right;\">\n",
              "      <th></th>\n",
              "      <th>R</th>\n",
              "      <th>G</th>\n",
              "      <th>B</th>\n",
              "      <th>Character</th>\n",
              "    </tr>\n",
              "  </thead>\n",
              "  <tbody>\n",
              "    <tr>\n",
              "      <th>0</th>\n",
              "      <td>0</td>\n",
              "      <td>0</td>\n",
              "      <td>0</td>\n",
              "      <td></td>\n",
              "    </tr>\n",
              "    <tr>\n",
              "      <th>1</th>\n",
              "      <td>39</td>\n",
              "      <td>38</td>\n",
              "      <td>30</td>\n",
              "      <td></td>\n",
              "    </tr>\n",
              "    <tr>\n",
              "      <th>2</th>\n",
              "      <td>39</td>\n",
              "      <td>38</td>\n",
              "      <td>30</td>\n",
              "      <td></td>\n",
              "    </tr>\n",
              "    <tr>\n",
              "      <th>3</th>\n",
              "      <td>39</td>\n",
              "      <td>38</td>\n",
              "      <td>30</td>\n",
              "      <td></td>\n",
              "    </tr>\n",
              "    <tr>\n",
              "      <th>4</th>\n",
              "      <td>39</td>\n",
              "      <td>38</td>\n",
              "      <td>30</td>\n",
              "      <td></td>\n",
              "    </tr>\n",
              "    <tr>\n",
              "      <th>...</th>\n",
              "      <td>...</td>\n",
              "      <td>...</td>\n",
              "      <td>...</td>\n",
              "      <td>...</td>\n",
              "    </tr>\n",
              "    <tr>\n",
              "      <th>79797</th>\n",
              "      <td>143</td>\n",
              "      <td>148</td>\n",
              "      <td>163</td>\n",
              "      <td>N</td>\n",
              "    </tr>\n",
              "    <tr>\n",
              "      <th>79798</th>\n",
              "      <td>143</td>\n",
              "      <td>130</td>\n",
              "      <td>102</td>\n",
              "      <td>N</td>\n",
              "    </tr>\n",
              "    <tr>\n",
              "      <th>79799</th>\n",
              "      <td>143</td>\n",
              "      <td>129</td>\n",
              "      <td>96</td>\n",
              "      <td>N</td>\n",
              "    </tr>\n",
              "    <tr>\n",
              "      <th>79800</th>\n",
              "      <td>144</td>\n",
              "      <td>149</td>\n",
              "      <td>163</td>\n",
              "      <td>N</td>\n",
              "    </tr>\n",
              "    <tr>\n",
              "      <th>79801</th>\n",
              "      <td>145</td>\n",
              "      <td>149</td>\n",
              "      <td>163</td>\n",
              "      <td>N</td>\n",
              "    </tr>\n",
              "  </tbody>\n",
              "</table>\n",
              "<p>79802 rows × 4 columns</p>\n",
              "</div>"
            ],
            "text/plain": [
              "         R    G    B Character\n",
              "0        0    0    0          \n",
              "1       39   38   30          \n",
              "2       39   38   30          \n",
              "3       39   38   30          \n",
              "4       39   38   30          \n",
              "...    ...  ...  ...       ...\n",
              "79797  143  148  163         N\n",
              "79798  143  130  102         N\n",
              "79799  143  129   96         N\n",
              "79800  144  149  163         N\n",
              "79801  145  149  163         N\n",
              "\n",
              "[79802 rows x 4 columns]"
            ]
          },
          "metadata": {
            "tags": []
          },
          "execution_count": 6
        }
      ]
    },
    {
      "cell_type": "code",
      "metadata": {
        "id": "cSi9uAhbPpx_"
      },
      "source": [
        "data = pd.read_csv(file)\n",
        "X = data[['B']]\n",
        "y = data[['Character']]\n",
        "y = y.replace(' ', '_')"
      ],
      "execution_count": 7,
      "outputs": []
    },
    {
      "cell_type": "code",
      "metadata": {
        "id": "cZ6fe-YNOxZV",
        "outputId": "0b374f40-cf50-4d10-95d3-c6f922ea0f9f",
        "colab": {
          "base_uri": "https://localhost:8080/",
          "height": 35
        }
      },
      "source": [
        "y['Character'][1]"
      ],
      "execution_count": 19,
      "outputs": [
        {
          "output_type": "execute_result",
          "data": {
            "application/vnd.google.colaboratory.intrinsic+json": {
              "type": "string"
            },
            "text/plain": [
              "'_'"
            ]
          },
          "metadata": {
            "tags": []
          },
          "execution_count": 19
        }
      ]
    },
    {
      "cell_type": "code",
      "metadata": {
        "colab": {
          "base_uri": "https://localhost:8080/"
        },
        "id": "BZScNFHaazik",
        "outputId": "6da1c8a2-fd26-40a7-cc23-0b1673407dc4"
      },
      "source": [
        "# taken from https://stackoverflow.com/questions/43618245/how-to-one-hot-encode-sentences-at-the-character-level\n",
        "def one_hot(c: str):\n",
        "  idxs = np.fromstring(c, dtype=np.uint8) - ord('A')\n",
        "  one_hot = tf.one_hot(idxs, 31, dtype=tf.uint8)\n",
        "  one_hot = one_hot.numpy().tolist()[0]\n",
        "  return one_hot\n",
        "\n",
        "one_hot_mapping = {}\n",
        "\n",
        "for i in range(ord('A'),ord('_')+1):\n",
        "  c = chr(i)\n",
        "  one_hot_mapping[c] = one_hot(c)\n",
        "\n",
        "y_irgendwas = [ one_hot_mapping[c] for c in y['Character']]\n"
      ],
      "execution_count": 8,
      "outputs": [
        {
          "output_type": "stream",
          "text": [
            "/usr/local/lib/python3.7/dist-packages/ipykernel_launcher.py:3: DeprecationWarning: The binary mode of fromstring is deprecated, as it behaves surprisingly on unicode inputs. Use frombuffer instead\n",
            "  This is separate from the ipykernel package so we can avoid doing imports until\n"
          ],
          "name": "stderr"
        }
      ]
    },
    {
      "cell_type": "code",
      "metadata": {
        "id": "IZcVReqtS0T8",
        "outputId": "2daea694-721f-4250-8110-c9a5efdcaa5a",
        "colab": {
          "base_uri": "https://localhost:8080/"
        }
      },
      "source": [
        "one_hot_mapping[\"_\"]"
      ],
      "execution_count": 33,
      "outputs": [
        {
          "output_type": "execute_result",
          "data": {
            "text/plain": [
              "[0,\n",
              " 0,\n",
              " 0,\n",
              " 0,\n",
              " 0,\n",
              " 0,\n",
              " 0,\n",
              " 0,\n",
              " 0,\n",
              " 0,\n",
              " 0,\n",
              " 0,\n",
              " 0,\n",
              " 0,\n",
              " 0,\n",
              " 0,\n",
              " 0,\n",
              " 0,\n",
              " 0,\n",
              " 0,\n",
              " 0,\n",
              " 0,\n",
              " 0,\n",
              " 0,\n",
              " 0,\n",
              " 0,\n",
              " 0,\n",
              " 0,\n",
              " 0,\n",
              " 0,\n",
              " 1]"
            ]
          },
          "metadata": {
            "tags": []
          },
          "execution_count": 33
        }
      ]
    },
    {
      "cell_type": "code",
      "metadata": {
        "id": "RCjRyOGJLdAD",
        "outputId": "bc932b12-7a11-4bdf-df42-26b775f09712",
        "colab": {
          "base_uri": "https://localhost:8080/",
          "height": 264
        }
      },
      "source": [
        "# Only keep sequences smaller 30 (try to throw away double characters)\n",
        "last_character = y_irgendwas[0]\n",
        "single_sequence = []\n",
        "\n",
        "X_data = []\n",
        "y_data = []\n",
        "\n",
        "for i in range(len(y_irgendwas)):\n",
        "  # if y_irgendwas[i] != one_hot_mapping[\"_\"]:\n",
        "\n",
        "  if y_irgendwas[i] == last_character:\n",
        "    single_sequence.append(X['B'][i])\n",
        "\n",
        "  else:\n",
        "    if single_sequence:\n",
        "      X_data.append(single_sequence)\n",
        "      y_data.append(last_character)\n",
        "    \n",
        "    single_sequence = [X['B'][i]]\n",
        "  \n",
        "  last_character = y_irgendwas[i]\n",
        "\n",
        "len(X_data), len(y_data)\n",
        "plt.hist(list(map(len, X_data)), bins= 120)\n",
        "\n",
        "mask = [ key for key,val in enumerate(X_data) if len(val)<30 ]  \n",
        "\n",
        "y_data = [ y_data[val] for val in mask]\n",
        "X_data = [ X_data[val] for val in mask]"
      ],
      "execution_count": 47,
      "outputs": [
        {
          "output_type": "display_data",
          "data": {
            "image/png": "[encoded data removed]",
            "text/plain": [
              "<Figure size 432x288 with 1 Axes>"
            ]
          },
          "metadata": {
            "tags": [],
            "needs_background": "light"
          }
        }
      ]
    },
    {
      "cell_type": "code",
      "metadata": {
        "id": "N9DDrFN6WjaT"
      },
      "source": [
        "# padde X_data sequences\n",
        "\n",
        "def pad_sequence(sequence, pad_length = 30):\n",
        "  if len(sequence) == pad_length:\n",
        "    return sequence\n",
        "  if len(sequence) > pad_length:\n",
        "    return sequence[:pad_length]\n",
        "  else:\n",
        "    return sequence + [0]*(pad_length-len(sequence))\n",
        "\n",
        "X_data = [ pad_sequence(seq) for seq in X_data]\n"
      ],
      "execution_count": 56,
      "outputs": []
    },
    {
      "cell_type": "code",
      "metadata": {
        "id": "ZQGSCQgpQq7S"
      },
      "source": [
        "X_tensor = tf.convert_to_tensor(X_data)\n",
        "y_tensor = tf.convert_to_tensor(y_data)\n"
      ],
      "execution_count": 98,
      "outputs": []
    },
    {
      "cell_type": "code",
      "metadata": {
        "id": "CWs6x_S2QGH-"
      },
      "source": [
        "length = len(X_tensor)\n",
        "\n",
        "X_train = X_tensor[:int(0.6*length)]\n",
        "X_train = np.reshape(X_train, (X_train.shape[0], 1, X_train.shape[1]))\n",
        "\n",
        "X_val = X_tensor[int(0.6*length):int(0.8*length)]\n",
        "X_val = np.reshape(X_val, (X_val.shape[0], 1, X_val.shape[1]))\n",
        "\n",
        "X_test = X_tensor[int(0.8*length):]\n",
        "X_test = np.reshape(X_test, (X_test.shape[0], 1, X_test.shape[1]))\n",
        "\n",
        "y_train = y_tensor[:int(0.6*length)]\n",
        "y_train = np.reshape(y_train, (y_train.shape[0], 1, y_train.shape[1]))\n",
        "\n",
        "y_val = y_tensor[int(0.6*length):int(0.8*length)]\n",
        "y_val = np.reshape(y_val, (y_val.shape[0], 1, y_val.shape[1]))\n",
        "\n",
        "y_test = y_tensor[int(0.8*length):]"
      ],
      "execution_count": 102,
      "outputs": []
    },
    {
      "cell_type": "code",
      "metadata": {
        "id": "gVqAj7KtdZRE",
        "outputId": "00257f14-30df-4854-ea4e-a2c307e0f1b0",
        "colab": {
          "base_uri": "https://localhost:8080/"
        }
      },
      "source": [
        "print(X_train.shape, ',', X_train.ndim, ',', type(X_train))\n",
        "print(y_train.shape, ',', y_train.ndim, ',', type(y_train))"
      ],
      "execution_count": 103,
      "outputs": [
        {
          "output_type": "stream",
          "text": [
            "(2679, 1, 30) , 3 , <class 'numpy.ndarray'>\n",
            "(2679, 1, 31) , 3 , <class 'numpy.ndarray'>\n"
          ],
          "name": "stdout"
        }
      ]
    },
    {
      "cell_type": "markdown",
      "metadata": {
        "id": "MTYtcLyNWjZP"
      },
      "source": [
        "(2) Create model"
      ]
    },
    {
      "cell_type": "code",
      "metadata": {
        "id": "fZnjM9O6Yfl2"
      },
      "source": [
        "# model = keras.Sequential()\n",
        "# # Add an Embedding layer expecting input vocab of size 1000, and\n",
        "# # output embedding dimension of size 64.\n",
        "# # model.add(layers.Embedding(input_dim=1000, output_dim=64))\n",
        "\n",
        "# # Add a LSTM layer with 128 internal units.\n",
        "# model.add(layers.LSTM(128))\n",
        "\n",
        "# # Add a Dense layer with 10 units.\n",
        "# # model.add(layers.Dense(10))\n",
        "\n",
        "# model.summary()"
      ],
      "execution_count": 104,
      "outputs": []
    },
    {
      "cell_type": "code",
      "metadata": {
        "id": "0Rey_R0VZvEN",
        "outputId": "c247d386-55fb-4dd7-85ef-262eee4e4498",
        "colab": {
          "base_uri": "https://localhost:8080/"
        }
      },
      "source": [
        "# create the model\n",
        "model = Sequential()\n",
        "model.add(LSTM(units=128, input_shape=(1, 30), return_sequences=True))\n",
        "model.add(Dense(31, activation='sigmoid'))\n",
        "model.compile(loss='categorical_crossentropy', optimizer='adam', metrics=['accuracy'])\n",
        "model.fit(X_train, y_train, validation_data=(X_val, y_val), epochs=5, batch_size=64)\n",
        "model.summary()"
      ],
      "execution_count": 108,
      "outputs": [
        {
          "output_type": "stream",
          "text": [
            "Epoch 1/5\n",
            "42/42 [==============================] - 3s 21ms/step - loss: 2.7374 - accuracy: 0.3623 - val_loss: 1.6385 - val_accuracy: 0.6797\n",
            "Epoch 2/5\n",
            "42/42 [==============================] - 0s 7ms/step - loss: 1.3695 - accuracy: 0.7138 - val_loss: 1.0190 - val_accuracy: 0.8018\n",
            "Epoch 3/5\n",
            "42/42 [==============================] - 0s 6ms/step - loss: 0.8732 - accuracy: 0.8342 - val_loss: 0.7332 - val_accuracy: 0.8768\n",
            "Epoch 4/5\n",
            "42/42 [==============================] - 0s 6ms/step - loss: 0.6457 - accuracy: 0.8987 - val_loss: 0.5629 - val_accuracy: 0.9127\n",
            "Epoch 5/5\n",
            "42/42 [==============================] - 0s 7ms/step - loss: 0.4874 - accuracy: 0.9116 - val_loss: 0.4301 - val_accuracy: 0.9474\n",
            "Model: \"sequential_15\"\n",
            "_________________________________________________________________\n",
            "Layer (type)                 Output Shape              Param #   \n",
            "=================================================================\n",
            "lstm_15 (LSTM)               (None, 1, 128)            81408     \n",
            "_________________________________________________________________\n",
            "dense_15 (Dense)             (None, 1, 31)             3999      \n",
            "=================================================================\n",
            "Total params: 85,407\n",
            "Trainable params: 85,407\n",
            "Non-trainable params: 0\n",
            "_________________________________________________________________\n"
          ],
          "name": "stdout"
        }
      ]
    },
    {
      "cell_type": "code",
      "metadata": {
        "id": "mpmK6_25LpLl"
      },
      "source": [
        ""
      ],
      "execution_count": null,
      "outputs": []
    }
  ]
}